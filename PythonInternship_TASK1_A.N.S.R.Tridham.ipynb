{
 "cells": [
  {
   "cell_type": "markdown",
   "metadata": {},
   "source": [
    "# Task1 Shopping List App"
   ]
  },
  {
   "cell_type": "code",
   "execution_count": 7,
   "metadata": {},
   "outputs": [
    {
     "name": "stdout",
     "output_type": "stream",
     "text": [
      "What should we pickup at the store?\n",
      "Enter 'DONE' to stop pickingup items to the list\n",
      "Enter the item:Srirag\n",
      "Enter the item:tridham\n",
      "Enter the item:raang\n",
      "Enter the item:shiva\n",
      "Enter the item:DONE\n",
      "Here is your list items\n",
      "Srirag\n",
      "tridham\n",
      "raang\n",
      "shiva\n"
     ]
    }
   ],
   "source": [
    "shopping_list=[]\n",
    "print(\"What should we pickup at the store?\")\n",
    "print(\"Enter 'DONE' to stop pickingup items to the list\")\n",
    "while True:\n",
    "    new_item=input(\"Enter the item:\")\n",
    "    if (new_item=='DONE'):\n",
    "        break\n",
    "    shopping_list.append(new_item)\n",
    "print(\"Here is your list items\")\n",
    "for items in shopping_list:\n",
    "    print(items)"
   ]
  },
  {
   "cell_type": "markdown",
   "metadata": {},
   "source": [
    "# Task2 Secret Number"
   ]
  },
  {
   "cell_type": "code",
   "execution_count": 4,
   "metadata": {},
   "outputs": [
    {
     "name": "stdout",
     "output_type": "stream",
     "text": [
      "Enter the number between 1 and 10:3\n",
      "Computer wins and player loses\n"
     ]
    }
   ],
   "source": [
    "import random\n",
    "secret_number=random.randint(1,10)\n",
    "guess=int(input(\"Enter the number between 1 and 10:\"))\n",
    "if guess==secret_number:\n",
    "    print(\"Player wins and computer loses\")\n",
    "else:\n",
    "    print(\"Computer wins and player loses\")"
   ]
  },
  {
   "cell_type": "code",
   "execution_count": null,
   "metadata": {},
   "outputs": [],
   "source": []
  }
 ],
 "metadata": {
  "kernelspec": {
   "display_name": "Python 3",
   "language": "python",
   "name": "python3"
  }
 },
 "nbformat": 4,
 "nbformat_minor": 4
}
